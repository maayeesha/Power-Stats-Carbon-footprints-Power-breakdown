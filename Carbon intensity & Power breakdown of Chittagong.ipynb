{
  "nbformat": 4,
  "nbformat_minor": 0,
  "metadata": {
    "colab": {
      "provenance": [],
      "authorship_tag": "ABX9TyP6oSMmlry/ZZ1NHNfiEbYh",
      "include_colab_link": true
    },
    "kernelspec": {
      "name": "python3",
      "display_name": "Python 3"
    },
    "language_info": {
      "name": "python"
    }
  },
  "cells": [
    {
      "cell_type": "markdown",
      "metadata": {
        "id": "view-in-github",
        "colab_type": "text"
      },
      "source": [
        "<a href=\"https://colab.research.google.com/github/maayeesha/Power-Stats-Carbon-footprints-Power-breakdown/blob/main/Carbon%20intensity%20%26%20Power%20breakdown%20of%20Chittagong.ipynb\" target=\"_parent\"><img src=\"https://colab.research.google.com/assets/colab-badge.svg\" alt=\"Open In Colab\"/></a>"
      ]
    },
    {
      "cell_type": "code",
      "execution_count": null,
      "metadata": {
        "id": "ewnPbYypyDCz"
      },
      "outputs": [],
      "source": [
        "import requests"
      ]
    },
    {
      "cell_type": "code",
      "source": [
        "base_url = 'https://api.electricitymap.org/v3/carbon-intensity/latest'"
      ],
      "metadata": {
        "id": "14emCPGxzW9I"
      },
      "execution_count": null,
      "outputs": []
    },
    {
      "cell_type": "code",
      "source": [
        "headers = {\n",
        "    'Authorization': 'Bearer PUT_YOUR_API_KEY'\n",
        "}"
      ],
      "metadata": {
        "id": "typ1K64hz_9m"
      },
      "execution_count": null,
      "outputs": []
    },
    {
      "cell_type": "code",
      "source": [
        "response = requests.get(base_url, headers=headers)\n",
        "\n",
        "# Check if the request was successful (status code 200)\n",
        "if response.status_code == 200:\n",
        "    data = response.json()\n",
        "    # Process the data as needed\n",
        "    print(data)\n",
        "else:\n",
        "    print(f\"Failed to retrieve data: {response.status_code} - {response.text}\")\n"
      ],
      "metadata": {
        "colab": {
          "base_uri": "https://localhost:8080/"
        },
        "id": "sRLHA0R70GAZ",
        "outputId": "56d1e9cc-8cbc-4da7-aa45-92b1191e62ad"
      },
      "execution_count": null,
      "outputs": [
        {
          "output_type": "stream",
          "name": "stdout",
          "text": [
            "{'zone': 'US-CENT-SWPP', 'carbonIntensity': 353, 'datetime': '2024-06-28T07:00:00.000Z', 'updatedAt': '2024-06-28T06:48:20.108Z', 'createdAt': '2024-06-25T07:50:54.400Z', 'emissionFactorType': 'lifecycle', 'isEstimated': True, 'estimationMethod': 'TIME_SLICER_AVERAGE'}\n"
          ]
        }
      ]
    },
    {
      "cell_type": "code",
      "source": [
        "#22.363244, 91.821849 ->NASIRABAD,CHATTOGRAM\n",
        "coordinates = {\n",
        "    \"lat\":22.363244,\n",
        "    \"lon\": 91.821849\n",
        "}"
      ],
      "metadata": {
        "id": "w_nxkoBw0IEQ"
      },
      "execution_count": null,
      "outputs": []
    },
    {
      "cell_type": "code",
      "source": [
        "url= f\"https://api.electricitymap.org/v3/carbon-intensity/latest?lat={coordinates['lat']}&lon={coordinates['lon']}\""
      ],
      "metadata": {
        "id": "GUOWikGH1SZH"
      },
      "execution_count": null,
      "outputs": []
    },
    {
      "cell_type": "code",
      "source": [
        "print(\"Endpoint: \" + str(url))"
      ],
      "metadata": {
        "colab": {
          "base_uri": "https://localhost:8080/"
        },
        "id": "R2TtK0wP1VYE",
        "outputId": "48d7bbf5-f007-48bf-912b-19015c03c817"
      },
      "execution_count": null,
      "outputs": [
        {
          "output_type": "stream",
          "name": "stdout",
          "text": [
            "Endpoint: https://api.electricitymap.org/v3/carbon-intensity/latest?lat=22.363244&lon=91.821849\n"
          ]
        }
      ]
    },
    {
      "cell_type": "code",
      "source": [
        "import requests"
      ],
      "metadata": {
        "id": "dX64jUS51mGB"
      },
      "execution_count": null,
      "outputs": []
    },
    {
      "cell_type": "code",
      "source": [
        "request = requests.get(\n",
        "    url,\n",
        "    headers={\"auth-token\": 'PUT_YOUR_API_KEY'})"
      ],
      "metadata": {
        "id": "AeZWTaFV1m5V"
      },
      "execution_count": null,
      "outputs": []
    },
    {
      "cell_type": "code",
      "source": [
        "import json"
      ],
      "metadata": {
        "id": "4n9sXQ0f17Bu"
      },
      "execution_count": null,
      "outputs": []
    },
    {
      "cell_type": "code",
      "source": [
        "json.loads(request.content)"
      ],
      "metadata": {
        "colab": {
          "base_uri": "https://localhost:8080/"
        },
        "id": "KVRKyWe92BQK",
        "outputId": "758496d4-8fc3-4954-a1f5-bd4cdc7fa9b6"
      },
      "execution_count": null,
      "outputs": [
        {
          "output_type": "execute_result",
          "data": {
            "text/plain": [
              "{'zone': 'BD',\n",
              " 'carbonIntensity': 611,\n",
              " 'datetime': '2024-06-28T07:00:00.000Z',\n",
              " 'updatedAt': '2024-06-28T06:48:33.496Z',\n",
              " 'createdAt': '2024-06-25T07:50:54.400Z',\n",
              " 'emissionFactorType': 'lifecycle',\n",
              " 'isEstimated': True,\n",
              " 'estimationMethod': 'TIME_SLICER_AVERAGE'}"
            ]
          },
          "metadata": {},
          "execution_count": 18
        }
      ]
    },
    {
      "cell_type": "code",
      "source": [
        "url = f\"https://api.electricitymap.org/v3/power-breakdown/latest?lat={coordinates['lat']}&lon={coordinates['lon']}\""
      ],
      "metadata": {
        "id": "-6JNeXd22Vap"
      },
      "execution_count": null,
      "outputs": []
    },
    {
      "cell_type": "code",
      "source": [
        "print(url)"
      ],
      "metadata": {
        "colab": {
          "base_uri": "https://localhost:8080/"
        },
        "id": "Laka3maw2lHw",
        "outputId": "04594aa9-ff22-489f-b99d-8c1f793a727f"
      },
      "execution_count": null,
      "outputs": [
        {
          "output_type": "stream",
          "name": "stdout",
          "text": [
            "https://api.electricitymap.org/v3/power-breakdown/latest?lat=22.363244&lon=91.821849\n"
          ]
        }
      ]
    },
    {
      "cell_type": "code",
      "source": [
        "request = requests.get(\n",
        "    url,\n",
        "    headers={\"auth-token\":'PUT_YOUR_API_KEY'})"
      ],
      "metadata": {
        "id": "-5XeSFE22rsf"
      },
      "execution_count": null,
      "outputs": []
    },
    {
      "cell_type": "code",
      "source": [
        "power_breakdown = json.loads(request.content)\n",
        "\n",
        "# Print the content\n",
        "power_breakdown"
      ],
      "metadata": {
        "colab": {
          "base_uri": "https://localhost:8080/"
        },
        "id": "5pugA8nd2xas",
        "outputId": "06724734-dcf2-4766-91dc-bc0205de1751"
      },
      "execution_count": null,
      "outputs": [
        {
          "output_type": "execute_result",
          "data": {
            "text/plain": [
              "{'zone': 'BD',\n",
              " 'datetime': '2024-06-28T07:00:00.000Z',\n",
              " 'updatedAt': '2024-06-28T06:48:33.496Z',\n",
              " 'createdAt': '2024-06-25T07:50:54.400Z',\n",
              " 'powerConsumptionBreakdown': {'nuclear': 0,\n",
              "  'geothermal': 0,\n",
              "  'biomass': 0,\n",
              "  'coal': 3597,\n",
              "  'wind': 56,\n",
              "  'solar': 238,\n",
              "  'hydro': 144,\n",
              "  'gas': 5134,\n",
              "  'oil': 3197,\n",
              "  'unknown': 0,\n",
              "  'hydro discharge': 0,\n",
              "  'battery discharge': 0},\n",
              " 'powerProductionBreakdown': {'nuclear': None,\n",
              "  'geothermal': None,\n",
              "  'biomass': None,\n",
              "  'coal': 3597,\n",
              "  'wind': 56,\n",
              "  'solar': 238,\n",
              "  'hydro': 144,\n",
              "  'gas': 5134,\n",
              "  'oil': 3197,\n",
              "  'unknown': 0,\n",
              "  'hydro discharge': None,\n",
              "  'battery discharge': None},\n",
              " 'powerImportBreakdown': {},\n",
              " 'powerExportBreakdown': {},\n",
              " 'fossilFreePercentage': 4,\n",
              " 'renewablePercentage': 4,\n",
              " 'powerConsumptionTotal': 12366,\n",
              " 'powerProductionTotal': 12366,\n",
              " 'powerImportTotal': None,\n",
              " 'powerExportTotal': None,\n",
              " 'isEstimated': True,\n",
              " 'estimationMethod': 'TIME_SLICER_AVERAGE'}"
            ]
          },
          "metadata": {},
          "execution_count": 22
        }
      ]
    },
    {
      "cell_type": "code",
      "source": [
        "power_breakdown['renewablePercentage']"
      ],
      "metadata": {
        "colab": {
          "base_uri": "https://localhost:8080/"
        },
        "id": "vFtv5mDl2_9J",
        "outputId": "922650ca-6eac-4b23-da4e-9779bed79367"
      },
      "execution_count": null,
      "outputs": [
        {
          "output_type": "execute_result",
          "data": {
            "text/plain": [
              "4"
            ]
          },
          "metadata": {},
          "execution_count": 23
        }
      ]
    },
    {
      "cell_type": "code",
      "source": [
        "power_breakdown['fossilFreePercentage']"
      ],
      "metadata": {
        "colab": {
          "base_uri": "https://localhost:8080/"
        },
        "id": "2zVvFTuI3F4u",
        "outputId": "159a9c9a-31c4-4651-dbba-d5ef3061a6c3"
      },
      "execution_count": null,
      "outputs": [
        {
          "output_type": "execute_result",
          "data": {
            "text/plain": [
              "4"
            ]
          },
          "metadata": {},
          "execution_count": 24
        }
      ]
    },
    {
      "cell_type": "code",
      "source": [
        "power_breakdown['powerConsumptionBreakdown'] #in MegaWatts"
      ],
      "metadata": {
        "colab": {
          "base_uri": "https://localhost:8080/"
        },
        "id": "Qy9wtaus3SMm",
        "outputId": "a21125b1-8270-45c9-97bf-fa8c0b49d8d8"
      },
      "execution_count": null,
      "outputs": [
        {
          "output_type": "execute_result",
          "data": {
            "text/plain": [
              "{'nuclear': 0,\n",
              " 'geothermal': 0,\n",
              " 'biomass': 0,\n",
              " 'coal': 3597,\n",
              " 'wind': 56,\n",
              " 'solar': 238,\n",
              " 'hydro': 144,\n",
              " 'gas': 5134,\n",
              " 'oil': 3197,\n",
              " 'unknown': 0,\n",
              " 'hydro discharge': 0,\n",
              " 'battery discharge': 0}"
            ]
          },
          "metadata": {},
          "execution_count": 25
        }
      ]
    },
    {
      "cell_type": "code",
      "source": [
        "import numpy as np"
      ],
      "metadata": {
        "id": "E7Slt1H63pq-"
      },
      "execution_count": null,
      "outputs": []
    },
    {
      "cell_type": "code",
      "source": [
        "total_consumption = power_breakdown['powerConsumptionTotal']"
      ],
      "metadata": {
        "id": "vhqV3Fgn3rwb"
      },
      "execution_count": null,
      "outputs": []
    },
    {
      "cell_type": "code",
      "source": [
        "total_consumption"
      ],
      "metadata": {
        "colab": {
          "base_uri": "https://localhost:8080/"
        },
        "id": "QP-BRZdY3wOA",
        "outputId": "bf5bf652-a16d-45f6-ea42-b0bbb40b7e36"
      },
      "execution_count": null,
      "outputs": [
        {
          "output_type": "execute_result",
          "data": {
            "text/plain": [
              "12366"
            ]
          },
          "metadata": {},
          "execution_count": 28
        }
      ]
    },
    {
      "cell_type": "code",
      "source": [
        "consumption_percent = {\n",
        "    k: np.round((v/total_consumption) * 100)\n",
        "    for k,v\n",
        "    in power_breakdown['powerConsumptionBreakdown'].items()}\n",
        "consumption_percent"
      ],
      "metadata": {
        "colab": {
          "base_uri": "https://localhost:8080/"
        },
        "id": "t_eskv163zpD",
        "outputId": "c43bb22e-360a-4752-d9de-4872ac6cb485"
      },
      "execution_count": null,
      "outputs": [
        {
          "output_type": "execute_result",
          "data": {
            "text/plain": [
              "{'nuclear': 0.0,\n",
              " 'geothermal': 0.0,\n",
              " 'biomass': 0.0,\n",
              " 'coal': 29.0,\n",
              " 'wind': 0.0,\n",
              " 'solar': 2.0,\n",
              " 'hydro': 1.0,\n",
              " 'gas': 42.0,\n",
              " 'oil': 26.0,\n",
              " 'unknown': 0.0,\n",
              " 'hydro discharge': 0.0,\n",
              " 'battery discharge': 0.0}"
            ]
          },
          "metadata": {},
          "execution_count": 29
        }
      ]
    },
    {
      "cell_type": "code",
      "source": [
        "#helper function for power stats of any locaion\n",
        "import helper, requests, json, numpy as np\n",
        "def power_stats(lat,lon, api_key='PUT_YOUR_API_KEY'):\n",
        "    coordinates = { \"lat\": lat, \"lon\": lon }\n",
        "\n",
        "    url_intensity = f\"https://api.electricitymap.org/v3/carbon-intensity/latest?lat={coordinates['lat']}&lon={coordinates['lon']}\"\n",
        "    request_intensity = requests.get(url_intensity, headers={\"auth-token\": api_key})\n",
        "    intensity = json.loads(request_intensity.content)\n",
        "\n",
        "    url_breakdown = f\"https://api.electricitymap.org/v3/power-breakdown/latest?lat={coordinates['lat']}&lon={coordinates['lon']}\"\n",
        "    request_breakdown = requests.get(url_breakdown, headers={\"auth-token\": api_key})\n",
        "    breakdown = json.loads(request_breakdown.content)\n",
        "\n",
        "    breakdown_abridged = {\n",
        "        'renewablePercentage': breakdown['renewablePercentage'],\n",
        "        'fossilFreePercentage': breakdown['fossilFreePercentage'],\n",
        "        'powerConsumptionBreakdown': breakdown['powerConsumptionBreakdown'],\n",
        "        'consumption_percent': {\n",
        "            k: np.round((v/breakdown['powerConsumptionTotal']) * 100)\n",
        "            for k, v\n",
        "            in breakdown['powerConsumptionBreakdown'].items()\n",
        "        },\n",
        "    }\n",
        "\n",
        "    return intensity, breakdown_abridged"
      ],
      "metadata": {
        "id": "EKU8DRx-4vbU"
      },
      "execution_count": null,
      "outputs": []
    },
    {
      "cell_type": "code",
      "source": [
        "# Coordinates from a landmark in Taiwan\n",
        "intensity, breakdown = power_stats(\n",
        "    lat=25.0356575108668,\n",
        "    lon=121.52010809479746)"
      ],
      "metadata": {
        "id": "wziuJU5f49nN"
      },
      "execution_count": null,
      "outputs": []
    },
    {
      "cell_type": "code",
      "source": [
        "intensity"
      ],
      "metadata": {
        "colab": {
          "base_uri": "https://localhost:8080/"
        },
        "id": "SBi53Mnz5Cn_",
        "outputId": "cd030738-babc-4c7e-9fe6-31431144e81c"
      },
      "execution_count": null,
      "outputs": [
        {
          "output_type": "execute_result",
          "data": {
            "text/plain": [
              "{'zone': 'TW',\n",
              " 'carbonIntensity': 499,\n",
              " 'datetime': '2024-06-28T08:00:00.000Z',\n",
              " 'updatedAt': '2024-06-28T07:49:41.569Z',\n",
              " 'createdAt': '2024-06-25T08:50:05.188Z',\n",
              " 'emissionFactorType': 'lifecycle',\n",
              " 'isEstimated': True,\n",
              " 'estimationMethod': 'TIME_SLICER_AVERAGE'}"
            ]
          },
          "metadata": {},
          "execution_count": 34
        }
      ]
    },
    {
      "cell_type": "code",
      "source": [
        "breakdown"
      ],
      "metadata": {
        "colab": {
          "base_uri": "https://localhost:8080/"
        },
        "id": "jfh-uepd5Eqb",
        "outputId": "c8345417-f867-4fad-842c-a8739e7a2f87"
      },
      "execution_count": null,
      "outputs": [
        {
          "output_type": "execute_result",
          "data": {
            "text/plain": [
              "{'renewablePercentage': 17,\n",
              " 'fossilFreePercentage': 22,\n",
              " 'powerConsumptionBreakdown': {'nuclear': 1790,\n",
              "  'geothermal': 1,\n",
              "  'biomass': 22,\n",
              "  'coal': 11773,\n",
              "  'wind': 801,\n",
              "  'solar': 5341,\n",
              "  'hydro': 645,\n",
              "  'gas': 16655,\n",
              "  'oil': 399,\n",
              "  'unknown': 1603,\n",
              "  'hydro discharge': 0,\n",
              "  'battery discharge': 0},\n",
              " 'consumption_percent': {'nuclear': 5.0,\n",
              "  'geothermal': 0.0,\n",
              "  'biomass': 0.0,\n",
              "  'coal': 30.0,\n",
              "  'wind': 2.0,\n",
              "  'solar': 14.0,\n",
              "  'hydro': 2.0,\n",
              "  'gas': 43.0,\n",
              "  'oil': 1.0,\n",
              "  'unknown': 4.0,\n",
              "  'hydro discharge': 0.0,\n",
              "  'battery discharge': 0.0}}"
            ]
          },
          "metadata": {},
          "execution_count": 35
        }
      ]
    }
  ]
}